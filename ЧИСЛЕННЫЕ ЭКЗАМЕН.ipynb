{
 "cells": [
  {
   "cell_type": "markdown",
   "metadata": {},
   "source": [
    "## Трапеция"
   ]
  },
  {
   "cell_type": "code",
   "execution_count": 200,
   "metadata": {},
   "outputs": [],
   "source": [
    "# Необходимые библиотеки\n",
    "#################\n",
    "import math as m\n",
    "import sympy as sp\n",
    "import numpy as np\n",
    "from sympy import symbols,diff\n",
    "x=sp.symbols('x')\n",
    "n=sp.symbols('n')\n",
    "################"
   ]
  },
  {
   "cell_type": "code",
   "execution_count": 201,
   "metadata": {},
   "outputs": [],
   "source": [
    "a=1 # Нижний предел\n",
    "b=2 #Верхний предел\n",
    "v=(1/12 *x**4 +1/3 *x - 1/60) # Сюда вводим функцию"
   ]
  },
  {
   "cell_type": "code",
   "execution_count": 202,
   "metadata": {},
   "outputs": [
    {
     "name": "stdout",
     "output_type": "stream",
     "text": [
      "Первая производная:  0.333333333333333*x**3 + 0.333333333333333\n",
      "Вторая производная:  1.0*x**2\n"
     ]
    }
   ],
   "source": [
    "def f(z):\n",
    "    return v.subs(x,z) \n",
    "f1=sp.diff(v)\n",
    "f2=sp.diff(v,x,2)\n",
    "print('Первая производная: ',f1)\n",
    "print('Вторая производная: ',f2)"
   ]
  },
  {
   "cell_type": "code",
   "execution_count": 203,
   "metadata": {},
   "outputs": [
    {
     "name": "stdout",
     "output_type": "stream",
     "text": [
      "MAX:  4.00000000000000\n",
      "h:  1/n\n",
      "Rn: 3333.33333333333\n",
      "n:  58\n",
      "h:  0.017241379310344827\n"
     ]
    }
   ],
   "source": [
    "if (f2.subs(x,a)>(f2.subs(x,b))):\n",
    "    maxs=f2.subs(x,a)\n",
    "else:\n",
    "    maxs=f2.subs(x,b)\n",
    "print('MAX: ',maxs)\n",
    "h=(b-a)/(n)\n",
    "print('h: ',h)\n",
    "Rn=((b-a)/12)*maxs*h**2\n",
    "Rn=Rn*10000*n**2\n",
    "print('Rn:', Rn)\n",
    "for i in range(1000):\n",
    "    if i**2 > Rn:\n",
    "        n=i\n",
    "        print('n: ',n)\n",
    "        break\n",
    "h=(b-a)/(n)\n",
    "print('h: ',h)"
   ]
  },
  {
   "cell_type": "code",
   "execution_count": 204,
   "metadata": {},
   "outputs": [],
   "source": [
    "xlist=[]\n",
    "dd=a\n",
    "while dd<=b:\n",
    "    xlist.append(dd)\n",
    "    dd=dd+h\n",
    "#xlist.append(b) # Добавляет b последним\n",
    "xlist[len(xlist)-1]=b # делает последний элемент равным b\n",
    "flist=list(map(f,xlist))"
   ]
  },
  {
   "cell_type": "code",
   "execution_count": 205,
   "metadata": {},
   "outputs": [
    {
     "name": "stdout",
     "output_type": "stream",
     "text": [
      "E1:  2.38333333333333 \n",
      "E2:  56.8116858095177\n",
      "ОТВЕТ:  1.0001\n"
     ]
    }
   ],
   "source": [
    "E1=flist[0]+flist[len(flist)-1]\n",
    "E2=0\n",
    "for i in range(1,len(flist)-1):\n",
    "    E2=E2+flist[i]\n",
    "print('E1: ',E1,'\\nE2: ',E2)\n",
    "Sol=h*((E1/2)+E2)\n",
    "print('ОТВЕТ: ',round(Sol,4))"
   ]
  },
  {
   "cell_type": "markdown",
   "metadata": {},
   "source": [
    "## Симпсон для проверки"
   ]
  },
  {
   "cell_type": "code",
   "execution_count": 206,
   "metadata": {},
   "outputs": [
    {
     "name": "stdout",
     "output_type": "stream",
     "text": [
      "Первая производная:  0.333333333333333*x**3 + 0.333333333333333\n",
      "Четвертая производная:  2.00000000000000\n"
     ]
    }
   ],
   "source": [
    "f1=sp.diff(v)\n",
    "f4=sp.diff(v,x,4)\n",
    "print('Первая производная: ',f1)\n",
    "print('Четвертая производная: ',f4)"
   ]
  },
  {
   "cell_type": "code",
   "execution_count": 207,
   "metadata": {},
   "outputs": [
    {
     "name": "stdout",
     "output_type": "stream",
     "text": [
      "MAX:  2.00000000000000\n",
      "h:  0.008620689655172414\n",
      "Rn:  6.94444444444444\n",
      "n:  2\n",
      "h:  0.25\n"
     ]
    }
   ],
   "source": [
    "if (f4.subs(x,a)>(f4.subs(x,b))):\n",
    "    maxs=f4.subs(x,a)\n",
    "else:\n",
    "    maxs=f4.subs(x,b)\n",
    "print('MAX: ',maxs)\n",
    "h=(b-a)/(2*n)\n",
    "print('h: ',h)\n",
    "Rn=((b-a)/180)*maxs*h**4\n",
    "Rn=(Rn*10000)*n**4\n",
    "print('Rn: ',Rn)\n",
    "for i in range(1000):\n",
    "    if i**4 > Rn:\n",
    "        n=i\n",
    "        print('n: ',n)\n",
    "        break\n",
    "h=(b-a)/(2*n)\n",
    "print('h: ',h)"
   ]
  },
  {
   "cell_type": "code",
   "execution_count": 208,
   "metadata": {},
   "outputs": [
    {
     "data": {
      "text/plain": [
       "[1, 1.25, 1.5, 1.75, 2]"
      ]
     },
     "execution_count": 208,
     "metadata": {},
     "output_type": "execute_result"
    }
   ],
   "source": [
    "xlist=[]\n",
    "dd=a\n",
    "while dd<=b:\n",
    "    xlist.append(dd)\n",
    "    dd=dd+h\n",
    "#xlist.append(b) # добавляет b в конец\n",
    "xlist[len(xlist)-1]=b # заменяет последний элемент на b\n",
    "flist=list(map(f,xlist))\n",
    "xlist"
   ]
  },
  {
   "cell_type": "code",
   "execution_count": 209,
   "metadata": {},
   "outputs": [
    {
     "name": "stdout",
     "output_type": "stream",
     "text": [
      "E1:  2.38333333333333 \n",
      "E2:  1.95169270833333 \n",
      "E3:  0.905208333333333\n",
      "ОТВЕТ:  1.0\n"
     ]
    }
   ],
   "source": [
    "E1=flist[0]+flist[len(flist)-1]\n",
    "E2=0\n",
    "E3=0\n",
    "for i in range(1,len(flist)-1):\n",
    "    if i % 2 == 0:\n",
    "        E3=E3+flist[i]\n",
    "    else:\n",
    "        E2=E2+flist[i]\n",
    "print('E1: ',E1,'\\nE2: ',E2,'\\nE3: ',E3)\n",
    "Sol=h/3*(E1+4*E2+2*E3)\n",
    "print('ОТВЕТ: ',round(Sol,4))"
   ]
  },
  {
   "cell_type": "markdown",
   "metadata": {},
   "source": [
    "##  Дифф"
   ]
  },
  {
   "cell_type": "code",
   "execution_count": 84,
   "metadata": {},
   "outputs": [],
   "source": [
    "# Необходимые библиотеки\n",
    "##################\n",
    "import numpy as np\n",
    "import math as m\n",
    "##################"
   ]
  },
  {
   "cell_type": "code",
   "execution_count": 85,
   "metadata": {},
   "outputs": [],
   "source": [
    "def f(x,y):\n",
    "    return x*y+m.e**y # сюда вводим функцию"
   ]
  },
  {
   "cell_type": "code",
   "execution_count": 86,
   "metadata": {},
   "outputs": [
    {
     "name": "stdout",
     "output_type": "stream",
     "text": [
      "h:  0.02\n"
     ]
    }
   ],
   "source": [
    "e=0.01 # точность\n",
    "n=5 # Выбираем сами\n",
    "\n",
    "x0=0 # начало интервала\n",
    "X=0.1 # конец интервала\n",
    "y0=1 # начальное условие\n",
    "h=(X-x0)/n\n",
    "print('h: ',h)"
   ]
  },
  {
   "cell_type": "code",
   "execution_count": 87,
   "metadata": {},
   "outputs": [],
   "source": [
    "y=[]\n",
    "x=np.arange(x0,X+h,h)\n",
    "y.append(y0)\n",
    "for i in range(1,n+1):\n",
    "    y.append(y[i-1]+h*f(x[i-1],y[i-1]))\n",
    "    y[i]=y[i-1]+h/2*(f(x[i-1],y[i-1])+f(x[i],y[i]))\n",
    "    while((abs(y[i-1]+h/2*(f(x[i-1],y[i-1])+f(x[i],y[i])))-y[i])>e):\n",
    "        y[i]=y[i-1]+h/2*(f(x[i-1],y[i-1])+f(x[i],y[i]))"
   ]
  },
  {
   "cell_type": "code",
   "execution_count": 92,
   "metadata": {},
   "outputs": [
    {
     "name": "stdout",
     "output_type": "stream",
     "text": [
      "ОТВЕТ:  [1, 1.06, 1.12, 1.18, 1.25, 1.32]\n"
     ]
    }
   ],
   "source": [
    "for i in range(1,n+1):\n",
    "    y[i]=round(y[i],2)\n",
    "print('ОТВЕТ: ',y)"
   ]
  },
  {
   "cell_type": "markdown",
   "metadata": {},
   "source": [
    "## Интерполяция"
   ]
  },
  {
   "cell_type": "code",
   "execution_count": 151,
   "metadata": {},
   "outputs": [],
   "source": [
    "# ввод x и y и точку\n",
    "x = [1.69,1.96,2.25]\n",
    "y = [1.3,1.4,1.5]\n",
    "t = 2.0"
   ]
  },
  {
   "cell_type": "code",
   "execution_count": 152,
   "metadata": {},
   "outputs": [
    {
     "name": "stdout",
     "output_type": "stream",
     "text": [
      "1.4137931034482758\n"
     ]
    }
   ],
   "source": [
    "import scipy.interpolate\n",
    "y_interp = scipy.interpolate.interp1d(x, y)\n",
    "print(y_interp(t))"
   ]
  },
  {
   "cell_type": "code",
   "execution_count": 153,
   "metadata": {},
   "outputs": [
    {
     "name": "stdout",
     "output_type": "stream",
     "text": [
      "ОТВЕТ:  1.41\n"
     ]
    }
   ],
   "source": [
    "print('ОТВЕТ: ',round(1.4137931034482758,2)) # заменить "
   ]
  },
  {
   "cell_type": "code",
   "execution_count": null,
   "metadata": {},
   "outputs": [],
   "source": []
  },
  {
   "cell_type": "code",
   "execution_count": null,
   "metadata": {},
   "outputs": [],
   "source": []
  },
  {
   "cell_type": "code",
   "execution_count": null,
   "metadata": {},
   "outputs": [],
   "source": [
    "# код функции интерполяции\n",
    "def interpolate(yin, xin, xout, method='linear'):\n",
    "    lenxin = len(xin)\n",
    "    i1 = numpy.searchsorted(xin, xout)\n",
    "    i1[ i1==0 ] = 1\n",
    "    i1[ i1==lenxin ] = lenxin-1\n",
    "    x0 = xin[i1-1]\n",
    "    x1 = xin[i1]\n",
    "    y0 = yin[i1-1]\n",
    "    y1 = yin[i1]\n",
    "    if method == 'linear':\n",
    "    return (xout - x0) / (x1 - x0) * (y1 - y0) + y0"
   ]
  }
 ],
 "metadata": {
  "kernelspec": {
   "display_name": "Python 3",
   "language": "python",
   "name": "python3"
  },
  "language_info": {
   "codemirror_mode": {
    "name": "ipython",
    "version": 3
   },
   "file_extension": ".py",
   "mimetype": "text/x-python",
   "name": "python",
   "nbconvert_exporter": "python",
   "pygments_lexer": "ipython3",
   "version": "3.7.3"
  }
 },
 "nbformat": 4,
 "nbformat_minor": 2
}
